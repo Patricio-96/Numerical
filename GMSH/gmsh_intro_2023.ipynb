{
 "cells": [
  {
   "cell_type": "code",
   "execution_count": 1,
   "metadata": {},
   "outputs": [],
   "source": [
    "# modulos obligatorios\n",
    "import gmsh\n",
    "import sys"
   ]
  },
  {
   "cell_type": "code",
   "execution_count": 2,
   "metadata": {},
   "outputs": [],
   "source": [
    "# inicializar gmsh:\n",
    "gmsh.initialize()"
   ]
  },
  {
   "attachments": {
    "image.png": {
     "image/png": "[encoded data removed]"
    }
   },
   "cell_type": "markdown",
   "metadata": {},
   "source": [
    "![image.png](attachment:image.png)"
   ]
  },
  {
   "cell_type": "code",
   "execution_count": 3,
   "metadata": {},
   "outputs": [],
   "source": [
    "# defino los puntos\n",
    "sz = 1e-2\n",
    "\n",
    "punto1 = gmsh.model.geo.add_point(0,0,0,sz)\n",
    "punto2 = gmsh.model.geo.add_point(1,0,0,sz)\n",
    "punto3 = gmsh.model.geo.add_point(1,1,0,sz)\n",
    "punto4 = gmsh.model.geo.add_point(0,1,0,sz)\n",
    "punto5 = gmsh.model.geo.add_point(0,0,1,sz)\n",
    "punto6 = gmsh.model.geo.add_point(1,0,1,sz)\n",
    "punto7 = gmsh.model.geo.add_point(1,1,1,sz)\n",
    "punto8 = gmsh.model.geo.add_point(0,1,1,sz)"
   ]
  },
  {
   "cell_type": "code",
   "execution_count": 9,
   "metadata": {},
   "outputs": [],
   "source": [
    "# defino las lineas\n",
    "linea1 = gmsh.model.geo.add_line(punto1, punto2)\n",
    "linea2 = gmsh.model.geo.add_line(punto2, punto3)\n",
    "linea3 = gmsh.model.geo.add_line(punto3, punto4)\n",
    "linea4 = gmsh.model.geo.add_line(punto4, punto1)\n",
    "linea5 = gmsh.model.geo.add_line(punto5, punto6)\n",
    "linea6 = gmsh.model.geo.add_line(punto6, punto7)\n",
    "linea7 = gmsh.model.geo.add_line(punto7, punto8)\n",
    "linea8 = gmsh.model.geo.add_line(punto8, punto5)\n",
    "\n",
    "linea9 = gmsh.model.geo.add_line(punto1, punto5)\n",
    "linea10 = gmsh.model.geo.add_line(punto2, punto6)\n",
    "linea11 = gmsh.model.geo.add_line(punto3, punto7)\n",
    "linea12 = gmsh.model.geo.add_line(punto4, punto8)"
   ]
  },
  {
   "cell_type": "code",
   "execution_count": 11,
   "metadata": {},
   "outputs": [],
   "source": [
    "# definimos las caras del cubo\n",
    "cara1 = gmsh.model.geo.add_curve_loop([linea1, linea2, linea3, linea4])\n",
    "cara2 = gmsh.model.geo.add_curve_loop([linea5, linea6, linea7, linea8])\n",
    "cara3 = gmsh.model.geo.add_curve_loop([linea1, linea10, -linea5, -linea9])\n",
    "cara4 = gmsh.model.geo.add_curve_loop([-linea3, linea11, linea7, -linea12])\n",
    "cara5 = gmsh.model.geo.add_curve_loop([-linea4, linea12, linea8, -linea9])\n",
    "cara6 = gmsh.model.geo.add_curve_loop([linea2, linea11, -linea6, -linea10])"
   ]
  },
  {
   "cell_type": "code",
   "execution_count": 12,
   "metadata": {},
   "outputs": [
    {
     "data": {
      "text/plain": [
       "6"
      ]
     },
     "execution_count": 12,
     "metadata": {},
     "output_type": "execute_result"
    }
   ],
   "source": [
    "# definimos las superficies\n",
    "gmsh.model.geo.add_plane_surface([cara1])\n",
    "gmsh.model.geo.add_plane_surface([cara2])\n",
    "gmsh.model.geo.add_plane_surface([cara3])\n",
    "gmsh.model.geo.add_plane_surface([cara4])\n",
    "gmsh.model.geo.add_plane_surface([cara5])\n",
    "gmsh.model.geo.add_plane_surface([cara6])"
   ]
  },
  {
   "cell_type": "code",
   "execution_count": 13,
   "metadata": {},
   "outputs": [],
   "source": [
    "# sincronizo todo lo agregado\n",
    "gmsh.model.geo.synchronize()"
   ]
  },
  {
   "cell_type": "code",
   "execution_count": 14,
   "metadata": {},
   "outputs": [
    {
     "name": "stdout",
     "output_type": "stream",
     "text": [
      "Info    : Meshing 1D...\n",
      "Info    : [  0%] Meshing curve 1 (Line)\n",
      "Info    : [ 10%] Meshing curve 2 (Line)\n",
      "Info    : [ 10%] Meshing curve 3 (Line)\n",
      "Info    : [ 20%] Meshing curve 4 (Line)\n",
      "Info    : [ 20%] Meshing curve 5 (Line)\n",
      "Info    : [ 30%] Meshing curve 6 (Line)\n",
      "Info    : [ 30%] Meshing curve 7 (Line)\n",
      "Info    : [ 30%] Meshing curve 8 (Line)\n",
      "Info    : [ 40%] Meshing curve 9 (Line)\n",
      "Info    : [ 40%] Meshing curve 10 (Line)\n",
      "Info    : [ 50%] Meshing curve 11 (Line)\n",
      "Info    : [ 50%] Meshing curve 12 (Line)\n",
      "Info    : [ 50%] Meshing curve 13 (Line)\n",
      "Info    : [ 60%] Meshing curve 14 (Line)\n",
      "Info    : [ 60%] Meshing curve 15 (Line)\n",
      "Info    : [ 70%] Meshing curve 16 (Line)\n",
      "Info    : [ 70%] Meshing curve 17 (Line)\n",
      "Info    : [ 80%] Meshing curve 18 (Line)\n",
      "Info    : [ 80%] Meshing curve 19 (Line)\n",
      "Info    : [ 80%] Meshing curve 20 (Line)\n",
      "Info    : [ 90%] Meshing curve 21 (Line)\n",
      "Info    : [ 90%] Meshing curve 22 (Line)\n",
      "Info    : [100%] Meshing curve 23 (Line)\n",
      "Info    : [100%] Meshing curve 24 (Line)\n",
      "Info    : Done meshing 1D (Wall 0.00223474s, CPU 0.000681s)\n",
      "Info    : Meshing 2D...\n",
      "Info    : [  0%] Meshing surface 1 (Plane, Frontal-Delaunay)\n",
      "Info    : [ 20%] Meshing surface 2 (Plane, Frontal-Delaunay)\n",
      "Info    : [ 40%] Meshing surface 3 (Plane, Frontal-Delaunay)\n",
      "Info    : [ 50%] Meshing surface 4 (Plane, Frontal-Delaunay)\n",
      "Info    : [ 70%] Meshing surface 5 (Plane, Frontal-Delaunay)\n",
      "Info    : [ 90%] Meshing surface 6 (Plane, Frontal-Delaunay)\n",
      "Info    : Done meshing 2D (Wall 1.52259s, CPU 1.51546s)\n",
      "Info    : Meshing 3D...\n",
      "Info    : Done meshing 3D (Wall 0.00848696s, CPU 0.000236s)\n",
      "Info    : 71009 nodes 142004 elements\n"
     ]
    }
   ],
   "source": [
    "# generar la malla\n",
    "gmsh.model.mesh.generate()"
   ]
  },
  {
   "cell_type": "code",
   "execution_count": 15,
   "metadata": {},
   "outputs": [
    {
     "name": "stdout",
     "output_type": "stream",
     "text": [
      "Info    : Writing 'cubo_23.msh'...\n",
      "Info    : Done writing 'cubo_23.msh'\n"
     ]
    }
   ],
   "source": [
    "# exportamos en formato gmsh\n",
    "gmsh.write(\"cubo_23.msh\")"
   ]
  },
  {
   "cell_type": "code",
   "execution_count": 16,
   "metadata": {},
   "outputs": [
    {
     "name": "stdout",
     "output_type": "stream",
     "text": [
      "-------------------------------------------------------\n",
      "Version       : 4.11.1\n",
      "License       : GNU General Public License\n",
      "Build OS      : Linux64-sdk\n",
      "Build date    : 20221221\n",
      "Build host    : gmsh.info\n",
      "Build options : 64Bit ALGLIB[contrib] ANN[contrib] Bamg Blas[petsc] Blossom Cgns DIntegration Dlopen DomHex Eigen[contrib] Fltk Gmm[contrib] Hxt Jpeg Kbipack Lapack[petsc] LinuxJoystick MathEx[contrib] Med Mesh Metis[contrib] Mmg Mpeg Netgen ONELAB ONELABMetamodel OpenCASCADE OpenCASCADE-CAF OpenGL OpenMP OptHom PETSc Parser Plugins Png Post QuadMeshingTools QuadTri Solver TetGen/BR Voro++[contrib] WinslowUntangler Zlib\n",
      "FLTK version  : 1.4.0\n",
      "PETSc version : 3.14.4 (real arithmtic)\n",
      "OCC version   : 7.6.1\n",
      "MED version   : 4.1.0\n",
      "Packaged by   : geuzaine\n",
      "Web site      : https://gmsh.info\n",
      "Issue tracker : https://gitlab.onelab.info/gmsh/gmsh/issues\n",
      "-------------------------------------------------------\n"
     ]
    }
   ],
   "source": [
    "if 'close' not in sys.argv:\n",
    "    gmsh.fltk.run()"
   ]
  }
 ],
 "metadata": {
  "kernelspec": {
   "display_name": "ops",
   "language": "python",
   "name": "python3"
  },
  "language_info": {
   "codemirror_mode": {
    "name": "ipython",
    "version": 3
   },
   "file_extension": ".py",
   "mimetype": "text/x-python",
   "name": "python",
   "nbconvert_exporter": "python",
   "pygments_lexer": "ipython3",
   "version": "3.10.6"
  },
  "orig_nbformat": 4
 },
 "nbformat": 4,
 "nbformat_minor": 2
}
