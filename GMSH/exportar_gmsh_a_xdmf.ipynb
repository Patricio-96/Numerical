{
 "cells": [
  {
   "attachments": {},
   "cell_type": "markdown",
   "metadata": {},
   "source": [
    "# Yuri"
   ]
  },
  {
   "cell_type": "code",
   "execution_count": 2,
   "metadata": {},
   "outputs": [],
   "source": [
    "# sudo pip3 install meshio\n",
    "import meshio\n",
    "import matplotlib.pyplot as plt"
   ]
  },
  {
   "cell_type": "code",
   "execution_count": 8,
   "metadata": {},
   "outputs": [
    {
     "name": "stdout",
     "output_type": "stream",
     "text": [
      "\n"
     ]
    }
   ],
   "source": [
    "# cargar la geometría:\n",
    "geometry = meshio.read(\"Bridge.msh\")"
   ]
  },
  {
   "cell_type": "code",
   "execution_count": 9,
   "metadata": {},
   "outputs": [],
   "source": [
    "# el siguiente comando exporta a formato xdmf\n",
    "meshio.write(\"puente_yuri.xdmf\", meshio.Mesh(points=geometry.points, cells={\"tetra\": geometry.cells_dict[\"tetra\"]}))"
   ]
  },
  {
   "cell_type": "code",
   "execution_count": 10,
   "metadata": {},
   "outputs": [
    {
     "data": {
      "text/plain": [
       "{'vertex': array([[ 0],\n",
       "        [ 1],\n",
       "        [ 2],\n",
       "        [ 3],\n",
       "        [ 4],\n",
       "        [ 5],\n",
       "        [ 6],\n",
       "        [ 7],\n",
       "        [ 8],\n",
       "        [ 9],\n",
       "        [10],\n",
       "        [11],\n",
       "        [12],\n",
       "        [13],\n",
       "        [14],\n",
       "        [15],\n",
       "        [16],\n",
       "        [17],\n",
       "        [18],\n",
       "        [19],\n",
       "        [20],\n",
       "        [21],\n",
       "        [22],\n",
       "        [23],\n",
       "        [24],\n",
       "        [25],\n",
       "        [26],\n",
       "        [27],\n",
       "        [28],\n",
       "        [29],\n",
       "        [30],\n",
       "        [31],\n",
       "        [32],\n",
       "        [33],\n",
       "        [34],\n",
       "        [35],\n",
       "        [36],\n",
       "        [37],\n",
       "        [38],\n",
       "        [39],\n",
       "        [40],\n",
       "        [41],\n",
       "        [42],\n",
       "        [43],\n",
       "        [44],\n",
       "        [45],\n",
       "        [46],\n",
       "        [47],\n",
       "        [48],\n",
       "        [49],\n",
       "        [50]]),\n",
       " 'line': array([[  0,  51],\n",
       "        [ 51,  52],\n",
       "        [ 52,  53],\n",
       "        ...,\n",
       "        [796, 797],\n",
       "        [797, 798],\n",
       "        [798,  50]]),\n",
       " 'triangle': array([[   4,   77,  909],\n",
       "        [ 138,    4,  909],\n",
       "        [  82,    5,  921],\n",
       "        ...,\n",
       "        [ 499,  500, 2947],\n",
       "        [ 500,  501, 2948],\n",
       "        [ 501,  502, 2946]]),\n",
       " 'tetra': array([[1265, 1242, 1267, 2956],\n",
       "        [1341, 1350, 1318, 2959],\n",
       "        [1334, 1298, 1362, 2966],\n",
       "        ...,\n",
       "        [2631, 2399, 2936, 2488],\n",
       "        [2486, 2852, 2183, 2401],\n",
       "        [2183, 2852, 2486, 2938]])}"
      ]
     },
     "execution_count": 10,
     "metadata": {},
     "output_type": "execute_result"
    }
   ],
   "source": [
    "geometry.cells_dict"
   ]
  },
  {
   "attachments": {},
   "cell_type": "markdown",
   "metadata": {},
   "source": [
    "# Caqui"
   ]
  },
  {
   "cell_type": "code",
   "execution_count": 11,
   "metadata": {},
   "outputs": [
    {
     "name": "stdout",
     "output_type": "stream",
     "text": [
      "\n"
     ]
    }
   ],
   "source": [
    "geometry = meshio.read(\"caqui.msh\")"
   ]
  },
  {
   "cell_type": "code",
   "execution_count": 12,
   "metadata": {},
   "outputs": [],
   "source": [
    "meshio.write(\"puente_caqui.xdmf\", meshio.Mesh(points=geometry.points, cells={\"tetra\": geometry.cells_dict[\"tetra\"]}))"
   ]
  },
  {
   "cell_type": "code",
   "execution_count": 13,
   "metadata": {},
   "outputs": [
    {
     "data": {
      "text/plain": [
       "{'vertex': array([[ 0],\n",
       "        [ 1],\n",
       "        [ 2],\n",
       "        [ 3],\n",
       "        [ 4],\n",
       "        [ 5],\n",
       "        [ 6],\n",
       "        [ 7],\n",
       "        [ 8],\n",
       "        [ 9],\n",
       "        [10],\n",
       "        [11],\n",
       "        [12],\n",
       "        [13],\n",
       "        [14],\n",
       "        [15],\n",
       "        [16],\n",
       "        [17],\n",
       "        [18],\n",
       "        [19],\n",
       "        [20],\n",
       "        [21],\n",
       "        [22],\n",
       "        [23],\n",
       "        [24],\n",
       "        [25],\n",
       "        [26],\n",
       "        [27],\n",
       "        [28],\n",
       "        [29],\n",
       "        [30],\n",
       "        [31],\n",
       "        [32],\n",
       "        [33],\n",
       "        [34],\n",
       "        [35],\n",
       "        [36],\n",
       "        [37]]),\n",
       " 'line': array([[ 0,  1],\n",
       "        [ 2,  3],\n",
       "        [ 0, 38],\n",
       "        [38, 39],\n",
       "        [39, 40],\n",
       "        [40, 41],\n",
       "        [41,  2],\n",
       "        [ 1, 42],\n",
       "        [42, 43],\n",
       "        [43, 44],\n",
       "        [44, 45],\n",
       "        [45,  3],\n",
       "        [ 4,  5],\n",
       "        [ 2, 46],\n",
       "        [46,  4],\n",
       "        [ 3, 47],\n",
       "        [47,  5],\n",
       "        [ 6,  7],\n",
       "        [ 4,  6],\n",
       "        [ 5,  7],\n",
       "        [ 8,  9],\n",
       "        [ 6, 48],\n",
       "        [48,  8],\n",
       "        [ 7, 49],\n",
       "        [49,  9],\n",
       "        [10, 11],\n",
       "        [ 8, 50],\n",
       "        [50, 51],\n",
       "        [51, 52],\n",
       "        [52, 53],\n",
       "        [53, 10],\n",
       "        [ 9, 54],\n",
       "        [54, 55],\n",
       "        [55, 56],\n",
       "        [56, 57],\n",
       "        [57, 11],\n",
       "        [12, 13],\n",
       "        [10, 58],\n",
       "        [58, 59],\n",
       "        [59, 12],\n",
       "        [11, 60],\n",
       "        [60, 61],\n",
       "        [61, 13],\n",
       "        [14, 15],\n",
       "        [12, 62],\n",
       "        [62, 14],\n",
       "        [13, 63],\n",
       "        [63, 15],\n",
       "        [16, 17],\n",
       "        [14, 64],\n",
       "        [64, 16],\n",
       "        [15, 65],\n",
       "        [65, 17],\n",
       "        [18, 19],\n",
       "        [16, 66],\n",
       "        [66, 67],\n",
       "        [67, 68],\n",
       "        [68, 18],\n",
       "        [17, 69],\n",
       "        [69, 70],\n",
       "        [70, 71],\n",
       "        [71, 19],\n",
       "        [20, 21],\n",
       "        [18, 72],\n",
       "        [72, 20],\n",
       "        [19, 73],\n",
       "        [73, 21],\n",
       "        [22, 23],\n",
       "        [20, 74],\n",
       "        [74, 22],\n",
       "        [21, 75],\n",
       "        [75, 23],\n",
       "        [22, 76],\n",
       "        [76, 77],\n",
       "        [77,  0],\n",
       "        [23, 78],\n",
       "        [78, 79],\n",
       "        [79,  1],\n",
       "        [24, 25],\n",
       "        [26, 27],\n",
       "        [24, 80],\n",
       "        [80, 81],\n",
       "        [81, 82],\n",
       "        [82, 26],\n",
       "        [25, 83],\n",
       "        [83, 84],\n",
       "        [84, 85],\n",
       "        [85, 27],\n",
       "        [28, 29],\n",
       "        [26, 86],\n",
       "        [86, 87],\n",
       "        [87, 88],\n",
       "        [88, 28],\n",
       "        [27, 89],\n",
       "        [89, 90],\n",
       "        [90, 91],\n",
       "        [91, 29],\n",
       "        [28, 92],\n",
       "        [92, 24],\n",
       "        [29, 93],\n",
       "        [93, 25],\n",
       "        [30, 31],\n",
       "        [32, 33],\n",
       "        [30, 94],\n",
       "        [94, 32],\n",
       "        [31, 95],\n",
       "        [95, 33],\n",
       "        [34, 35],\n",
       "        [32, 96],\n",
       "        [96, 34],\n",
       "        [33, 97],\n",
       "        [97, 35],\n",
       "        [36, 37],\n",
       "        [34, 36],\n",
       "        [35, 37],\n",
       "        [36, 98],\n",
       "        [98, 30],\n",
       "        [37, 99],\n",
       "        [99, 31]]),\n",
       " 'triangle': array([[  1, 103,   0],\n",
       "        [  0, 103,  38],\n",
       "        [ 42, 103,   1],\n",
       "        ...,\n",
       "        [ 95, 164,  93],\n",
       "        [ 93, 166,  95],\n",
       "        [165, 173, 171]]),\n",
       " 'tetra': array([[ 27,  89, 140, 163],\n",
       "        [ 86,  26, 140, 151],\n",
       "        [  9,  54, 163, 114],\n",
       "        ...,\n",
       "        [ 27,   9, 114, 151],\n",
       "        [ 27, 140, 114, 163],\n",
       "        [114, 140,  27, 151]])}"
      ]
     },
     "execution_count": 13,
     "metadata": {},
     "output_type": "execute_result"
    }
   ],
   "source": [
    "geometry.cells_dict"
   ]
  },
  {
   "attachments": {},
   "cell_type": "markdown",
   "metadata": {},
   "source": [
    "# Freddy"
   ]
  },
  {
   "cell_type": "code",
   "execution_count": 15,
   "metadata": {},
   "outputs": [
    {
     "name": "stdout",
     "output_type": "stream",
     "text": [
      "\n"
     ]
    }
   ],
   "source": [
    "geometry = meshio.read(\"freddy.msh\")"
   ]
  },
  {
   "cell_type": "code",
   "execution_count": 17,
   "metadata": {},
   "outputs": [
    {
     "name": "stdout",
     "output_type": "stream",
     "text": [
      "\n",
      "$Element section not found.\n"
     ]
    },
    {
     "data": {
      "text/html": [
       "<pre style=\"white-space:pre;overflow-x:auto;line-height:normal;font-family:Menlo,'DejaVu Sans Mono',consolas,'Courier New',monospace\"><span style=\"color: #800000; text-decoration-color: #800000; font-weight: bold\">Error:</span><span style=\"color: #800000; text-decoration-color: #800000\"> Couldn't read file freddy_puente.msh as either of ansys, gmsh</span>\n",
       "</pre>\n"
      ],
      "text/plain": [
       "\u001b[1;31mError:\u001b[0m\u001b[31m Couldn't read file freddy_puente.msh as either of ansys, gmsh\u001b[0m\n"
      ]
     },
     "metadata": {},
     "output_type": "display_data"
    },
    {
     "ename": "SystemExit",
     "evalue": "1",
     "output_type": "error",
     "traceback": [
      "An exception has occurred, use %tb to see the full traceback.\n",
      "\u001b[0;31mSystemExit\u001b[0m\u001b[0;31m:\u001b[0m 1\n"
     ]
    }
   ],
   "source": [
    "geometry = meshio.read(\"freddy_puente.msh\")"
   ]
  },
  {
   "attachments": {},
   "cell_type": "markdown",
   "metadata": {},
   "source": [
    "# Tacoma 2022\n"
   ]
  },
  {
   "cell_type": "code",
   "execution_count": 16,
   "metadata": {},
   "outputs": [
    {
     "name": "stdout",
     "output_type": "stream",
     "text": [
      "\n",
      "parametric nodes not implemented\n"
     ]
    },
    {
     "data": {
      "text/html": [
       "<pre style=\"white-space:pre;overflow-x:auto;line-height:normal;font-family:Menlo,'DejaVu Sans Mono',consolas,'Courier New',monospace\"><span style=\"color: #800000; text-decoration-color: #800000; font-weight: bold\">Error:</span><span style=\"color: #800000; text-decoration-color: #800000\"> Couldn't read file Tacoma.msh as either of ansys, gmsh</span>\n",
       "</pre>\n"
      ],
      "text/plain": [
       "\u001b[1;31mError:\u001b[0m\u001b[31m Couldn't read file Tacoma.msh as either of ansys, gmsh\u001b[0m\n"
      ]
     },
     "metadata": {},
     "output_type": "display_data"
    },
    {
     "ename": "SystemExit",
     "evalue": "1",
     "output_type": "error",
     "traceback": [
      "An exception has occurred, use %tb to see the full traceback.\n",
      "\u001b[0;31mSystemExit\u001b[0m\u001b[0;31m:\u001b[0m 1\n"
     ]
    }
   ],
   "source": [
    "geometry = meshio.read(\"Tacoma.msh\")"
   ]
  },
  {
   "attachments": {},
   "cell_type": "markdown",
   "metadata": {},
   "source": [
    "# Caqui"
   ]
  },
  {
   "cell_type": "code",
   "execution_count": null,
   "metadata": {},
   "outputs": [],
   "source": [
    "meshio.write(\"puente_caqui.xdmf\", meshio.Mesh(points=geometry.points, cells={\"tetra\": geometry.cells_dict[\"tetra\"]}))\n"
   ]
  },
  {
   "attachments": {},
   "cell_type": "markdown",
   "metadata": {},
   "source": [
    "# Cubo 2023"
   ]
  },
  {
   "cell_type": "code",
   "execution_count": 19,
   "metadata": {},
   "outputs": [
    {
     "name": "stdout",
     "output_type": "stream",
     "text": [
      "\n"
     ]
    }
   ],
   "source": [
    "geometry = meshio.read(\"cubo_23.msh\")\n"
   ]
  },
  {
   "cell_type": "code",
   "execution_count": 21,
   "metadata": {},
   "outputs": [
    {
     "data": {
      "text/plain": [
       "{'vertex': array([[0],\n",
       "        [1],\n",
       "        [2],\n",
       "        [3],\n",
       "        [4],\n",
       "        [5],\n",
       "        [6],\n",
       "        [7]]),\n",
       " 'line': array([[   0,    8],\n",
       "        [   8,    9],\n",
       "        [   9,   10],\n",
       "        ...,\n",
       "        [2423, 2424],\n",
       "        [2424, 2425],\n",
       "        [2425,    7]]),\n",
       " 'triangle': array([[ 9285,  2475, 13491],\n",
       "        [ 2534,  9591, 12176],\n",
       "        [ 8926,  2488, 13593],\n",
       "        ...,\n",
       "        [59729, 70893, 71006],\n",
       "        [70891, 59615, 71007],\n",
       "        [59616, 70892, 71008]])}"
      ]
     },
     "execution_count": 21,
     "metadata": {},
     "output_type": "execute_result"
    }
   ],
   "source": [
    "geometry.cells_dict"
   ]
  },
  {
   "cell_type": "code",
   "execution_count": 23,
   "metadata": {},
   "outputs": [],
   "source": [
    "meshio.write(\"cubo_23.xdmf\", meshio.Mesh(points=geometry.points, cells={\"triangle\": geometry.cells_dict[\"triangle\"]}))\n"
   ]
  },
  {
   "cell_type": "code",
   "execution_count": null,
   "metadata": {},
   "outputs": [],
   "source": [
    "import meshio\n",
    "msh = meshio.read(\"test.msh\")\n",
    "\n",
    "meshio.write(\"mesh.xdmf\", meshio.Mesh(points=msh.points, cells={\"tetra\": msh.cells[\"tetra\"]}))\n",
    "meshio.write(\"mf.xdmf\", meshio.Mesh(points=msh.points, cells={\"triangle\": msh.cells[\"triangle\"]},\n",
    "                                    cell_data={\"triangle\": {\"name_to_read\": msh.cell_data[\"triangle\"][\"gmsh:physical\"]}}))\n",
    "\n",
    "from dolfin import * \n",
    "mesh = Mesh()\n",
    "with XDMFFile(\"mesh.xdmf\") as infile:\n",
    "    infile.read(mesh)\n",
    "mvc = MeshValueCollection(\"size_t\", mesh, 2) \n",
    "with XDMFFile(\"mf.xdmf\") as infile:\n",
    "    infile.read(mvc, \"name_to_read\")\n",
    "mf = cpp.mesh.MeshFunctionSizet(mesh, mvc)\n",
    "File(\"dolfinmesh.pvd\").write(mesh)\n",
    "File(\"dolfincellfunc.pvd\").write(mf)"
   ]
  }
 ],
 "metadata": {
  "kernelspec": {
   "display_name": "Python 3",
   "language": "python",
   "name": "python3"
  },
  "language_info": {
   "codemirror_mode": {
    "name": "ipython",
    "version": 3
   },
   "file_extension": ".py",
   "mimetype": "text/x-python",
   "name": "python",
   "nbconvert_exporter": "python",
   "pygments_lexer": "ipython3",
   "version": "3.10.6"
  },
  "orig_nbformat": 4
 },
 "nbformat": 4,
 "nbformat_minor": 2
}
