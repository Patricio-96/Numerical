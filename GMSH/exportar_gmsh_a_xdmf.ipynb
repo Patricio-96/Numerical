{
 "cells": [
  {
   "cell_type": "code",
   "execution_count": 1,
   "metadata": {},
   "outputs": [],
   "source": [
    "# sudo pip3 install meshio\n",
    "import meshio\n",
    "import matplotlib.pyplot as plt"
   ]
  },
  {
   "attachments": {},
   "cell_type": "markdown",
   "metadata": {},
   "source": [
    "# Ramirez"
   ]
  },
  {
   "cell_type": "code",
   "execution_count": 2,
   "metadata": {},
   "outputs": [
    {
     "name": "stdout",
     "output_type": "stream",
     "text": [
      "\n"
     ]
    }
   ],
   "source": [
    "# cargar la geometría:\n",
    "geometry = meshio.read(\"ramirez.msh\")"
   ]
  },
  {
   "cell_type": "code",
   "execution_count": 3,
   "metadata": {},
   "outputs": [],
   "source": [
    "# el siguiente comando exporta a formato xdmf\n",
    "meshio.write(\"ramirez.xdmf\", meshio.Mesh(points=geometry.points, cells={\"triangle\": geometry.cells_dict[\"triangle\"]}))"
   ]
  },
  {
   "attachments": {},
   "cell_type": "markdown",
   "metadata": {},
   "source": [
    "# Yuri"
   ]
  },
  {
   "cell_type": "code",
   "execution_count": 2,
   "metadata": {},
   "outputs": [
    {
     "name": "stdout",
     "output_type": "stream",
     "text": [
      "\n"
     ]
    }
   ],
   "source": [
    "# cargar la geometría:\n",
    "geometry = meshio.read(\"malla_2.msh\")"
   ]
  },
  {
   "cell_type": "code",
   "execution_count": 4,
   "metadata": {},
   "outputs": [
    {
     "data": {
      "text/plain": [
       "{'vertex': array([[  0],\n",
       "        [  1],\n",
       "        [  2],\n",
       "        [  3],\n",
       "        [  4],\n",
       "        [  5],\n",
       "        [  6],\n",
       "        [  7],\n",
       "        [  8],\n",
       "        [  9],\n",
       "        [ 10],\n",
       "        [ 11],\n",
       "        [ 12],\n",
       "        [ 13],\n",
       "        [ 14],\n",
       "        [ 15],\n",
       "        [ 16],\n",
       "        [ 17],\n",
       "        [ 18],\n",
       "        [ 19],\n",
       "        [ 20],\n",
       "        [ 21],\n",
       "        [ 22],\n",
       "        [ 23],\n",
       "        [ 24],\n",
       "        [ 25],\n",
       "        [ 26],\n",
       "        [ 27],\n",
       "        [ 28],\n",
       "        [ 29],\n",
       "        [ 30],\n",
       "        [ 31],\n",
       "        [ 32],\n",
       "        [ 33],\n",
       "        [ 34],\n",
       "        [ 35],\n",
       "        [ 36],\n",
       "        [ 37],\n",
       "        [ 38],\n",
       "        [ 39],\n",
       "        [ 40],\n",
       "        [ 41],\n",
       "        [ 42],\n",
       "        [ 43],\n",
       "        [ 44],\n",
       "        [ 45],\n",
       "        [ 46],\n",
       "        [ 47],\n",
       "        [ 48],\n",
       "        [ 49],\n",
       "        [ 50],\n",
       "        [ 51],\n",
       "        [ 52],\n",
       "        [ 53],\n",
       "        [ 54],\n",
       "        [ 55],\n",
       "        [ 56],\n",
       "        [ 57],\n",
       "        [ 58],\n",
       "        [ 59],\n",
       "        [ 60],\n",
       "        [ 61],\n",
       "        [ 62],\n",
       "        [ 63],\n",
       "        [ 64],\n",
       "        [ 65],\n",
       "        [ 66],\n",
       "        [ 67],\n",
       "        [ 68],\n",
       "        [ 69],\n",
       "        [ 70],\n",
       "        [ 71],\n",
       "        [ 72],\n",
       "        [ 73],\n",
       "        [ 74],\n",
       "        [ 75],\n",
       "        [ 76],\n",
       "        [ 77],\n",
       "        [ 78],\n",
       "        [ 79],\n",
       "        [ 80],\n",
       "        [ 81],\n",
       "        [ 82],\n",
       "        [ 83],\n",
       "        [ 84],\n",
       "        [ 85],\n",
       "        [ 86],\n",
       "        [ 87],\n",
       "        [ 88],\n",
       "        [ 89],\n",
       "        [ 90],\n",
       "        [ 91],\n",
       "        [ 92],\n",
       "        [ 93],\n",
       "        [ 94],\n",
       "        [ 95],\n",
       "        [ 96],\n",
       "        [ 97],\n",
       "        [ 98],\n",
       "        [ 99],\n",
       "        [100],\n",
       "        [101],\n",
       "        [102],\n",
       "        [103],\n",
       "        [104],\n",
       "        [105],\n",
       "        [106],\n",
       "        [107],\n",
       "        [108],\n",
       "        [109],\n",
       "        [110],\n",
       "        [111],\n",
       "        [112],\n",
       "        [113],\n",
       "        [114],\n",
       "        [115],\n",
       "        [116],\n",
       "        [117],\n",
       "        [118],\n",
       "        [119],\n",
       "        [120],\n",
       "        [121],\n",
       "        [122],\n",
       "        [123],\n",
       "        [124],\n",
       "        [125],\n",
       "        [126],\n",
       "        [127],\n",
       "        [128],\n",
       "        [129],\n",
       "        [130],\n",
       "        [131],\n",
       "        [132],\n",
       "        [133],\n",
       "        [134],\n",
       "        [135],\n",
       "        [136],\n",
       "        [137],\n",
       "        [138],\n",
       "        [139],\n",
       "        [140],\n",
       "        [141],\n",
       "        [142],\n",
       "        [143],\n",
       "        [144],\n",
       "        [145],\n",
       "        [146],\n",
       "        [147],\n",
       "        [148],\n",
       "        [149],\n",
       "        [150],\n",
       "        [151],\n",
       "        [152],\n",
       "        [153],\n",
       "        [154],\n",
       "        [155],\n",
       "        [156],\n",
       "        [157],\n",
       "        [158],\n",
       "        [159],\n",
       "        [160],\n",
       "        [161],\n",
       "        [162],\n",
       "        [163],\n",
       "        [164],\n",
       "        [165],\n",
       "        [166],\n",
       "        [167],\n",
       "        [168],\n",
       "        [169],\n",
       "        [170],\n",
       "        [171],\n",
       "        [172],\n",
       "        [173],\n",
       "        [174],\n",
       "        [175],\n",
       "        [176],\n",
       "        [177],\n",
       "        [178],\n",
       "        [179],\n",
       "        [180],\n",
       "        [181],\n",
       "        [182],\n",
       "        [183],\n",
       "        [184],\n",
       "        [185],\n",
       "        [186],\n",
       "        [187],\n",
       "        [188],\n",
       "        [189],\n",
       "        [190],\n",
       "        [191],\n",
       "        [192],\n",
       "        [193],\n",
       "        [194],\n",
       "        [195],\n",
       "        [196],\n",
       "        [197],\n",
       "        [198],\n",
       "        [199],\n",
       "        [200],\n",
       "        [201],\n",
       "        [202],\n",
       "        [203],\n",
       "        [204],\n",
       "        [205],\n",
       "        [206],\n",
       "        [207],\n",
       "        [208],\n",
       "        [209],\n",
       "        [210],\n",
       "        [211],\n",
       "        [212],\n",
       "        [213],\n",
       "        [214],\n",
       "        [215],\n",
       "        [216],\n",
       "        [217],\n",
       "        [218],\n",
       "        [219],\n",
       "        [220],\n",
       "        [221],\n",
       "        [222],\n",
       "        [223],\n",
       "        [224],\n",
       "        [225],\n",
       "        [226],\n",
       "        [227],\n",
       "        [228],\n",
       "        [229],\n",
       "        [230],\n",
       "        [231],\n",
       "        [232],\n",
       "        [233],\n",
       "        [234],\n",
       "        [235],\n",
       "        [236],\n",
       "        [237],\n",
       "        [238],\n",
       "        [239],\n",
       "        [240],\n",
       "        [241],\n",
       "        [242],\n",
       "        [243],\n",
       "        [244],\n",
       "        [245],\n",
       "        [246],\n",
       "        [247],\n",
       "        [248],\n",
       "        [249],\n",
       "        [250],\n",
       "        [251],\n",
       "        [252],\n",
       "        [253],\n",
       "        [254],\n",
       "        [255],\n",
       "        [256],\n",
       "        [257],\n",
       "        [258],\n",
       "        [259],\n",
       "        [260],\n",
       "        [261],\n",
       "        [262],\n",
       "        [263],\n",
       "        [264],\n",
       "        [265],\n",
       "        [266],\n",
       "        [267],\n",
       "        [268],\n",
       "        [269],\n",
       "        [270],\n",
       "        [271],\n",
       "        [272],\n",
       "        [273],\n",
       "        [274],\n",
       "        [275],\n",
       "        [276],\n",
       "        [277],\n",
       "        [278],\n",
       "        [279],\n",
       "        [280],\n",
       "        [281],\n",
       "        [282],\n",
       "        [283],\n",
       "        [284],\n",
       "        [285],\n",
       "        [286],\n",
       "        [287],\n",
       "        [288],\n",
       "        [289],\n",
       "        [290],\n",
       "        [291],\n",
       "        [292],\n",
       "        [293],\n",
       "        [294],\n",
       "        [295],\n",
       "        [296],\n",
       "        [297],\n",
       "        [298],\n",
       "        [299],\n",
       "        [300],\n",
       "        [301],\n",
       "        [302],\n",
       "        [303],\n",
       "        [304],\n",
       "        [305],\n",
       "        [306],\n",
       "        [307],\n",
       "        [308],\n",
       "        [309],\n",
       "        [310],\n",
       "        [311],\n",
       "        [312],\n",
       "        [313],\n",
       "        [314],\n",
       "        [315],\n",
       "        [316],\n",
       "        [317],\n",
       "        [318],\n",
       "        [319],\n",
       "        [320],\n",
       "        [321],\n",
       "        [322],\n",
       "        [323],\n",
       "        [324],\n",
       "        [325],\n",
       "        [326],\n",
       "        [327],\n",
       "        [328],\n",
       "        [329],\n",
       "        [330],\n",
       "        [331],\n",
       "        [332],\n",
       "        [333],\n",
       "        [334],\n",
       "        [335],\n",
       "        [336],\n",
       "        [337],\n",
       "        [338],\n",
       "        [339],\n",
       "        [340],\n",
       "        [341],\n",
       "        [342],\n",
       "        [343],\n",
       "        [344],\n",
       "        [345],\n",
       "        [346],\n",
       "        [347],\n",
       "        [348],\n",
       "        [349],\n",
       "        [350],\n",
       "        [351],\n",
       "        [352],\n",
       "        [353],\n",
       "        [354],\n",
       "        [355],\n",
       "        [356],\n",
       "        [357]], dtype=int32),\n",
       " 'line': array([[   0,  358],\n",
       "        [ 358,  359],\n",
       "        [ 359,  360],\n",
       "        ...,\n",
       "        [6579, 6580],\n",
       "        [6580, 6581],\n",
       "        [6581,  357]], dtype=int32),\n",
       " 'triangle': array([[  365,  6631,  6633],\n",
       "        [ 6631,  6632,  6633],\n",
       "        [ 6631,  6591,  6632],\n",
       "        ...,\n",
       "        [45525, 45398,  5767],\n",
       "        [45525, 45370, 45398],\n",
       "        [ 5767, 45398,  5766]], dtype=int32)}"
      ]
     },
     "execution_count": 4,
     "metadata": {},
     "output_type": "execute_result"
    }
   ],
   "source": [
    "geometry.cells_dict"
   ]
  },
  {
   "cell_type": "code",
   "execution_count": 5,
   "metadata": {},
   "outputs": [],
   "source": [
    "# el siguiente comando exporta a formato xdmf\n",
    "meshio.write(\"puente_2.xdmf\", meshio.Mesh(points=geometry.points, cells={\"triangle\": geometry.cells_dict[\"triangle\"]}))"
   ]
  },
  {
   "cell_type": "code",
   "execution_count": 10,
   "metadata": {},
   "outputs": [
    {
     "data": {
      "text/plain": [
       "{'vertex': array([[ 0],\n",
       "        [ 1],\n",
       "        [ 2],\n",
       "        [ 3],\n",
       "        [ 4],\n",
       "        [ 5],\n",
       "        [ 6],\n",
       "        [ 7],\n",
       "        [ 8],\n",
       "        [ 9],\n",
       "        [10],\n",
       "        [11],\n",
       "        [12],\n",
       "        [13],\n",
       "        [14],\n",
       "        [15],\n",
       "        [16],\n",
       "        [17],\n",
       "        [18],\n",
       "        [19],\n",
       "        [20],\n",
       "        [21],\n",
       "        [22],\n",
       "        [23],\n",
       "        [24],\n",
       "        [25],\n",
       "        [26],\n",
       "        [27],\n",
       "        [28],\n",
       "        [29],\n",
       "        [30],\n",
       "        [31],\n",
       "        [32],\n",
       "        [33],\n",
       "        [34],\n",
       "        [35],\n",
       "        [36],\n",
       "        [37],\n",
       "        [38],\n",
       "        [39],\n",
       "        [40],\n",
       "        [41],\n",
       "        [42],\n",
       "        [43],\n",
       "        [44],\n",
       "        [45],\n",
       "        [46],\n",
       "        [47],\n",
       "        [48],\n",
       "        [49],\n",
       "        [50]]),\n",
       " 'line': array([[  0,  51],\n",
       "        [ 51,  52],\n",
       "        [ 52,  53],\n",
       "        ...,\n",
       "        [796, 797],\n",
       "        [797, 798],\n",
       "        [798,  50]]),\n",
       " 'triangle': array([[   4,   77,  909],\n",
       "        [ 138,    4,  909],\n",
       "        [  82,    5,  921],\n",
       "        ...,\n",
       "        [ 499,  500, 2947],\n",
       "        [ 500,  501, 2948],\n",
       "        [ 501,  502, 2946]]),\n",
       " 'tetra': array([[1265, 1242, 1267, 2956],\n",
       "        [1341, 1350, 1318, 2959],\n",
       "        [1334, 1298, 1362, 2966],\n",
       "        ...,\n",
       "        [2631, 2399, 2936, 2488],\n",
       "        [2486, 2852, 2183, 2401],\n",
       "        [2183, 2852, 2486, 2938]])}"
      ]
     },
     "execution_count": 10,
     "metadata": {},
     "output_type": "execute_result"
    }
   ],
   "source": [
    "geometry.cells_dict"
   ]
  },
  {
   "attachments": {},
   "cell_type": "markdown",
   "metadata": {},
   "source": [
    "# Caqui"
   ]
  },
  {
   "cell_type": "code",
   "execution_count": 11,
   "metadata": {},
   "outputs": [
    {
     "name": "stdout",
     "output_type": "stream",
     "text": [
      "\n"
     ]
    }
   ],
   "source": [
    "geometry = meshio.read(\"caqui.msh\")"
   ]
  },
  {
   "cell_type": "code",
   "execution_count": 12,
   "metadata": {},
   "outputs": [],
   "source": [
    "meshio.write(\"puente_caqui.xdmf\", meshio.Mesh(points=geometry.points, cells={\"tetra\": geometry.cells_dict[\"tetra\"]}))"
   ]
  },
  {
   "cell_type": "code",
   "execution_count": 13,
   "metadata": {},
   "outputs": [
    {
     "data": {
      "text/plain": [
       "{'vertex': array([[ 0],\n",
       "        [ 1],\n",
       "        [ 2],\n",
       "        [ 3],\n",
       "        [ 4],\n",
       "        [ 5],\n",
       "        [ 6],\n",
       "        [ 7],\n",
       "        [ 8],\n",
       "        [ 9],\n",
       "        [10],\n",
       "        [11],\n",
       "        [12],\n",
       "        [13],\n",
       "        [14],\n",
       "        [15],\n",
       "        [16],\n",
       "        [17],\n",
       "        [18],\n",
       "        [19],\n",
       "        [20],\n",
       "        [21],\n",
       "        [22],\n",
       "        [23],\n",
       "        [24],\n",
       "        [25],\n",
       "        [26],\n",
       "        [27],\n",
       "        [28],\n",
       "        [29],\n",
       "        [30],\n",
       "        [31],\n",
       "        [32],\n",
       "        [33],\n",
       "        [34],\n",
       "        [35],\n",
       "        [36],\n",
       "        [37]]),\n",
       " 'line': array([[ 0,  1],\n",
       "        [ 2,  3],\n",
       "        [ 0, 38],\n",
       "        [38, 39],\n",
       "        [39, 40],\n",
       "        [40, 41],\n",
       "        [41,  2],\n",
       "        [ 1, 42],\n",
       "        [42, 43],\n",
       "        [43, 44],\n",
       "        [44, 45],\n",
       "        [45,  3],\n",
       "        [ 4,  5],\n",
       "        [ 2, 46],\n",
       "        [46,  4],\n",
       "        [ 3, 47],\n",
       "        [47,  5],\n",
       "        [ 6,  7],\n",
       "        [ 4,  6],\n",
       "        [ 5,  7],\n",
       "        [ 8,  9],\n",
       "        [ 6, 48],\n",
       "        [48,  8],\n",
       "        [ 7, 49],\n",
       "        [49,  9],\n",
       "        [10, 11],\n",
       "        [ 8, 50],\n",
       "        [50, 51],\n",
       "        [51, 52],\n",
       "        [52, 53],\n",
       "        [53, 10],\n",
       "        [ 9, 54],\n",
       "        [54, 55],\n",
       "        [55, 56],\n",
       "        [56, 57],\n",
       "        [57, 11],\n",
       "        [12, 13],\n",
       "        [10, 58],\n",
       "        [58, 59],\n",
       "        [59, 12],\n",
       "        [11, 60],\n",
       "        [60, 61],\n",
       "        [61, 13],\n",
       "        [14, 15],\n",
       "        [12, 62],\n",
       "        [62, 14],\n",
       "        [13, 63],\n",
       "        [63, 15],\n",
       "        [16, 17],\n",
       "        [14, 64],\n",
       "        [64, 16],\n",
       "        [15, 65],\n",
       "        [65, 17],\n",
       "        [18, 19],\n",
       "        [16, 66],\n",
       "        [66, 67],\n",
       "        [67, 68],\n",
       "        [68, 18],\n",
       "        [17, 69],\n",
       "        [69, 70],\n",
       "        [70, 71],\n",
       "        [71, 19],\n",
       "        [20, 21],\n",
       "        [18, 72],\n",
       "        [72, 20],\n",
       "        [19, 73],\n",
       "        [73, 21],\n",
       "        [22, 23],\n",
       "        [20, 74],\n",
       "        [74, 22],\n",
       "        [21, 75],\n",
       "        [75, 23],\n",
       "        [22, 76],\n",
       "        [76, 77],\n",
       "        [77,  0],\n",
       "        [23, 78],\n",
       "        [78, 79],\n",
       "        [79,  1],\n",
       "        [24, 25],\n",
       "        [26, 27],\n",
       "        [24, 80],\n",
       "        [80, 81],\n",
       "        [81, 82],\n",
       "        [82, 26],\n",
       "        [25, 83],\n",
       "        [83, 84],\n",
       "        [84, 85],\n",
       "        [85, 27],\n",
       "        [28, 29],\n",
       "        [26, 86],\n",
       "        [86, 87],\n",
       "        [87, 88],\n",
       "        [88, 28],\n",
       "        [27, 89],\n",
       "        [89, 90],\n",
       "        [90, 91],\n",
       "        [91, 29],\n",
       "        [28, 92],\n",
       "        [92, 24],\n",
       "        [29, 93],\n",
       "        [93, 25],\n",
       "        [30, 31],\n",
       "        [32, 33],\n",
       "        [30, 94],\n",
       "        [94, 32],\n",
       "        [31, 95],\n",
       "        [95, 33],\n",
       "        [34, 35],\n",
       "        [32, 96],\n",
       "        [96, 34],\n",
       "        [33, 97],\n",
       "        [97, 35],\n",
       "        [36, 37],\n",
       "        [34, 36],\n",
       "        [35, 37],\n",
       "        [36, 98],\n",
       "        [98, 30],\n",
       "        [37, 99],\n",
       "        [99, 31]]),\n",
       " 'triangle': array([[  1, 103,   0],\n",
       "        [  0, 103,  38],\n",
       "        [ 42, 103,   1],\n",
       "        ...,\n",
       "        [ 95, 164,  93],\n",
       "        [ 93, 166,  95],\n",
       "        [165, 173, 171]]),\n",
       " 'tetra': array([[ 27,  89, 140, 163],\n",
       "        [ 86,  26, 140, 151],\n",
       "        [  9,  54, 163, 114],\n",
       "        ...,\n",
       "        [ 27,   9, 114, 151],\n",
       "        [ 27, 140, 114, 163],\n",
       "        [114, 140,  27, 151]])}"
      ]
     },
     "execution_count": 13,
     "metadata": {},
     "output_type": "execute_result"
    }
   ],
   "source": [
    "geometry.cells_dict"
   ]
  },
  {
   "attachments": {},
   "cell_type": "markdown",
   "metadata": {},
   "source": [
    "# Freddy"
   ]
  },
  {
   "cell_type": "code",
   "execution_count": 15,
   "metadata": {},
   "outputs": [
    {
     "name": "stdout",
     "output_type": "stream",
     "text": [
      "\n"
     ]
    }
   ],
   "source": [
    "geometry = meshio.read(\"freddy.msh\")"
   ]
  },
  {
   "cell_type": "code",
   "execution_count": 17,
   "metadata": {},
   "outputs": [
    {
     "name": "stdout",
     "output_type": "stream",
     "text": [
      "\n",
      "$Element section not found.\n"
     ]
    },
    {
     "data": {
      "text/html": [
       "<pre style=\"white-space:pre;overflow-x:auto;line-height:normal;font-family:Menlo,'DejaVu Sans Mono',consolas,'Courier New',monospace\"><span style=\"color: #800000; text-decoration-color: #800000; font-weight: bold\">Error:</span><span style=\"color: #800000; text-decoration-color: #800000\"> Couldn't read file freddy_puente.msh as either of ansys, gmsh</span>\n",
       "</pre>\n"
      ],
      "text/plain": [
       "\u001b[1;31mError:\u001b[0m\u001b[31m Couldn't read file freddy_puente.msh as either of ansys, gmsh\u001b[0m\n"
      ]
     },
     "metadata": {},
     "output_type": "display_data"
    },
    {
     "ename": "SystemExit",
     "evalue": "1",
     "output_type": "error",
     "traceback": [
      "An exception has occurred, use %tb to see the full traceback.\n",
      "\u001b[0;31mSystemExit\u001b[0m\u001b[0;31m:\u001b[0m 1\n"
     ]
    }
   ],
   "source": [
    "geometry = meshio.read(\"freddy_puente.msh\")"
   ]
  },
  {
   "attachments": {},
   "cell_type": "markdown",
   "metadata": {},
   "source": [
    "# Tacoma 2022\n"
   ]
  },
  {
   "cell_type": "code",
   "execution_count": 16,
   "metadata": {},
   "outputs": [
    {
     "name": "stdout",
     "output_type": "stream",
     "text": [
      "\n",
      "parametric nodes not implemented\n"
     ]
    },
    {
     "data": {
      "text/html": [
       "<pre style=\"white-space:pre;overflow-x:auto;line-height:normal;font-family:Menlo,'DejaVu Sans Mono',consolas,'Courier New',monospace\"><span style=\"color: #800000; text-decoration-color: #800000; font-weight: bold\">Error:</span><span style=\"color: #800000; text-decoration-color: #800000\"> Couldn't read file Tacoma.msh as either of ansys, gmsh</span>\n",
       "</pre>\n"
      ],
      "text/plain": [
       "\u001b[1;31mError:\u001b[0m\u001b[31m Couldn't read file Tacoma.msh as either of ansys, gmsh\u001b[0m\n"
      ]
     },
     "metadata": {},
     "output_type": "display_data"
    },
    {
     "ename": "SystemExit",
     "evalue": "1",
     "output_type": "error",
     "traceback": [
      "An exception has occurred, use %tb to see the full traceback.\n",
      "\u001b[0;31mSystemExit\u001b[0m\u001b[0;31m:\u001b[0m 1\n"
     ]
    }
   ],
   "source": [
    "geometry = meshio.read(\"Tacoma.msh\")"
   ]
  },
  {
   "attachments": {},
   "cell_type": "markdown",
   "metadata": {},
   "source": [
    "# Caqui"
   ]
  },
  {
   "cell_type": "code",
   "execution_count": null,
   "metadata": {},
   "outputs": [],
   "source": [
    "meshio.write(\"puente_caqui.xdmf\", meshio.Mesh(points=geometry.points, cells={\"tetra\": geometry.cells_dict[\"tetra\"]}))\n"
   ]
  },
  {
   "attachments": {},
   "cell_type": "markdown",
   "metadata": {},
   "source": [
    "# Cubo 2023"
   ]
  },
  {
   "cell_type": "code",
   "execution_count": 19,
   "metadata": {},
   "outputs": [
    {
     "name": "stdout",
     "output_type": "stream",
     "text": [
      "\n"
     ]
    }
   ],
   "source": [
    "geometry = meshio.read(\"cubo_23.msh\")\n"
   ]
  },
  {
   "cell_type": "code",
   "execution_count": 21,
   "metadata": {},
   "outputs": [
    {
     "data": {
      "text/plain": [
       "{'vertex': array([[0],\n",
       "        [1],\n",
       "        [2],\n",
       "        [3],\n",
       "        [4],\n",
       "        [5],\n",
       "        [6],\n",
       "        [7]]),\n",
       " 'line': array([[   0,    8],\n",
       "        [   8,    9],\n",
       "        [   9,   10],\n",
       "        ...,\n",
       "        [2423, 2424],\n",
       "        [2424, 2425],\n",
       "        [2425,    7]]),\n",
       " 'triangle': array([[ 9285,  2475, 13491],\n",
       "        [ 2534,  9591, 12176],\n",
       "        [ 8926,  2488, 13593],\n",
       "        ...,\n",
       "        [59729, 70893, 71006],\n",
       "        [70891, 59615, 71007],\n",
       "        [59616, 70892, 71008]])}"
      ]
     },
     "execution_count": 21,
     "metadata": {},
     "output_type": "execute_result"
    }
   ],
   "source": [
    "geometry.cells_dict"
   ]
  },
  {
   "cell_type": "code",
   "execution_count": 23,
   "metadata": {},
   "outputs": [],
   "source": [
    "meshio.write(\"cubo_23.xdmf\", meshio.Mesh(points=geometry.points, cells={\"triangle\": geometry.cells_dict[\"triangle\"]}))\n"
   ]
  },
  {
   "cell_type": "code",
   "execution_count": null,
   "metadata": {},
   "outputs": [],
   "source": [
    "import meshio\n",
    "msh = meshio.read(\"test.msh\")\n",
    "\n",
    "meshio.write(\"mesh.xdmf\", meshio.Mesh(points=msh.points, cells={\"tetra\": msh.cells[\"tetra\"]}))\n",
    "meshio.write(\"mf.xdmf\", meshio.Mesh(points=msh.points, cells={\"triangle\": msh.cells[\"triangle\"]},\n",
    "                                    cell_data={\"triangle\": {\"name_to_read\": msh.cell_data[\"triangle\"][\"gmsh:physical\"]}}))\n",
    "\n",
    "from dolfin import * \n",
    "mesh = Mesh()\n",
    "with XDMFFile(\"mesh.xdmf\") as infile:\n",
    "    infile.read(mesh)\n",
    "mvc = MeshValueCollection(\"size_t\", mesh, 2) \n",
    "with XDMFFile(\"mf.xdmf\") as infile:\n",
    "    infile.read(mvc, \"name_to_read\")\n",
    "mf = cpp.mesh.MeshFunctionSizet(mesh, mvc)\n",
    "File(\"dolfinmesh.pvd\").write(mesh)\n",
    "File(\"dolfincellfunc.pvd\").write(mf)"
   ]
  }
 ],
 "metadata": {
  "kernelspec": {
   "display_name": "Python 3",
   "language": "python",
   "name": "python3"
  },
  "language_info": {
   "codemirror_mode": {
    "name": "ipython",
    "version": 3
   },
   "file_extension": ".py",
   "mimetype": "text/x-python",
   "name": "python",
   "nbconvert_exporter": "python",
   "pygments_lexer": "ipython3",
   "version": "3.10.6"
  },
  "orig_nbformat": 4
 },
 "nbformat": 4,
 "nbformat_minor": 2
}
