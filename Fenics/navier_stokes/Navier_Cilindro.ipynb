{
 "cells": [
  {
   "cell_type": "code",
   "execution_count": 4,
   "metadata": {},
   "outputs": [],
   "source": [
    "from fenics import *\n",
    "from mshr import *\n",
    "import numpy as np\n",
    "import matplotlib.pyplot as plt"
   ]
  },
  {
   "cell_type": "code",
   "execution_count": 6,
   "metadata": {},
   "outputs": [
    {
     "data": {
      "text/plain": [
       "[<matplotlib.lines.Line2D at 0x7f4128303df0>,\n",
       " <matplotlib.lines.Line2D at 0x7f41283180a0>]"
      ]
     },
     "execution_count": 6,
     "metadata": {},
     "output_type": "execute_result"
    },
    {
     "data": {
      "image/png": "[encoded data removed]",
      "text/plain": [
       "<Figure size 640x480 with 1 Axes>"
      ]
     },
     "metadata": {},
     "output_type": "display_data"
    }
   ],
   "source": [
    "# Variables del problema y geometría\n",
    "channel = Rectangle(Point(0, 0), Point(2.2, 0.41))\n",
    "cylinder = Circle(Point(0.2, 0.2), 0.05)\n",
    "domain = channel - cylinder\n",
    "\n",
    "mesh = generate_mesh(domain, 64)\n",
    "\n",
    "# Creamos una malla para la geometria dada\n",
    "plot(mesh)"
   ]
  },
  {
   "cell_type": "code",
   "execution_count": 44,
   "metadata": {},
   "outputs": [],
   "source": [
    "# Definimos los parámetros del experimento\n",
    "T = 5.0  # Tiempo total de la simulación\n",
    "num_steps = 500   # Número de puntos en la malla (uni-dimensional) de tiempo\n",
    "# num_steps = 5000   # Número de puntos en la malla (uni-dimensional) de tiempo\n",
    "dt = T / num_steps # longitud de cada intervalo de tiempo\n",
    "mu = 0.001 # viscosidad dinámica\n",
    "rho = 1  # densidad"
   ]
  },
  {
   "cell_type": "code",
   "execution_count": null,
   "metadata": {},
   "outputs": [],
   "source": []
  },
  {
   "cell_type": "code",
   "execution_count": 45,
   "metadata": {},
   "outputs": [],
   "source": [
    "# Definimos los espacios de funciones dónde buscaremos la solución\n",
    "V = VectorFunctionSpace(mesh, 'P', 2)\n",
    "Q = FunctionSpace(mesh, 'P', 1)"
   ]
  },
  {
   "cell_type": "code",
   "execution_count": 46,
   "metadata": {},
   "outputs": [],
   "source": [
    "# Bordes geométricos\n",
    "inflow   = 'near(x[0], 0)'    # flujo entrante\n",
    "outflow  = 'near(x[0], 2.2)'  # flujo saliente\n",
    "walls    = 'near(x[1], 0) || near(x[1], 0.41)' # paredes  \n",
    "cylinder = 'on_boundary && x[0]>0.1 && x[0]<0.3 && x[1]> 0.1 && x[1]<0.3' # cilindro"
   ]
  },
  {
   "cell_type": "code",
   "execution_count": 47,
   "metadata": {},
   "outputs": [],
   "source": [
    "# Definir el flujo entrante: 4*1.5*y*(0.41-y)/ 0.41^2\n",
    "inflow_profile = ('4.0*1.5*x[1]*(0.41 - x[1]) / pow(0.41, 2)', '0')"
   ]
  },
  {
   "cell_type": "code",
   "execution_count": 48,
   "metadata": {},
   "outputs": [],
   "source": [
    "# Definir las condiciones de borde\n",
    "\n",
    "# Para la función u\n",
    "bcu_inflow   = DirichletBC(V, Expression(inflow_profile, degree=2), inflow)  # en la entrada\n",
    "bcu_walls    = DirichletBC(V, Constant((0, 0)), walls)  # en las paredes\n",
    "bcu_cylinder = DirichletBC(V, Constant((0, 0)), cylinder)  # en el cilindro\n",
    "\n",
    "# Para la función p\n",
    "bcp_outflow = DirichletBC(Q, Constant(0), outflow)    # a la salida\n",
    "\n",
    "bcu = [bcu_inflow, bcu_walls, bcu_cylinder]\n",
    "bcp = [bcp_outflow]"
   ]
  },
  {
   "cell_type": "code",
   "execution_count": 49,
   "metadata": {},
   "outputs": [],
   "source": [
    "# Definir las funciones de prueba y de busqueda\n",
    "u = TrialFunction(V)\n",
    "v = TestFunction(V)\n",
    "p = TrialFunction(Q)\n",
    "q = TestFunction(Q)"
   ]
  },
  {
   "cell_type": "code",
   "execution_count": 50,
   "metadata": {},
   "outputs": [],
   "source": [
    "# Definir las funciones donde vivirás las soluciones\n",
    "u_n = Function(V)\n",
    "u_ = Function(V)\n",
    "p_n = Function(Q)\n",
    "p_ = Function(Q)"
   ]
  },
  {
   "cell_type": "code",
   "execution_count": 51,
   "metadata": {},
   "outputs": [],
   "source": [
    "# Forma variacional para Navier-Stokes:\n",
    "\n",
    "U = 0.5*(u_n + u)\n",
    "n = FacetNormal(mesh)\n",
    "f = Constant((0, 0))\n",
    "k = Constant(dt)\n",
    "mu = Constant(mu)\n",
    "rho = Constant(rho)\n",
    "# Define tensor de deformaciones.\n",
    "def epsilon(u):\n",
    "    return sym(nabla_grad(u))\n",
    "\n",
    "# Define tensor de esfuerzos\n",
    "def sigma(u, p):\n",
    "    return 2*mu*epsilon(u) - p*Identity(len(u))\n",
    "\n",
    "\n",
    "# Forma variacional para el paso 1\n",
    "F1 = rho*dot((u - u_n) / k, v)*dx \\\n",
    "+ rho*dot(dot(u_n, nabla_grad(u_n)), v)*dx \\\n",
    "+ inner(sigma(U, p_n), epsilon(v))*dx \\\n",
    "+ dot(p_n*n, v)*ds - dot(mu*nabla_grad(U)*n, v)*ds \\\n",
    "- dot(f, v)*dx\n",
    "a1 = lhs(F1)\n",
    "L1 = rhs(F1)\n",
    "\n",
    "# Forma variacional para el paso 2\n",
    "a2 = dot(nabla_grad(p), nabla_grad(q))*dx\n",
    "L2 = dot(nabla_grad(p_n), nabla_grad(q))*dx - (1/k)*div(u_)*q*dx\n",
    "\n",
    "# Forma variacional para el paso 3\n",
    "a3 = dot(u, v)*dx\n",
    "L3 = dot(u_, v)*dx - k*dot(nabla_grad(p_ - p_n), v)*dx"
   ]
  },
  {
   "cell_type": "code",
   "execution_count": 52,
   "metadata": {},
   "outputs": [],
   "source": [
    "# Ensamblando las matrices que corresponden al operador a(u,v)\n",
    "A1 = assemble(a1)\n",
    "A2 = assemble(a2)\n",
    "A3 = assemble(a3)"
   ]
  },
  {
   "cell_type": "code",
   "execution_count": 53,
   "metadata": {},
   "outputs": [
    {
     "data": {
      "text/plain": [
       "[None]"
      ]
     },
     "execution_count": 53,
     "metadata": {},
     "output_type": "execute_result"
    }
   ],
   "source": [
    "# Applicamos las condiciones de borde en cada parte de la geometría\n",
    "[bc.apply(A1) for bc in bcu]\n",
    "[bc.apply(A2) for bc in bcp]"
   ]
  },
  {
   "cell_type": "code",
   "execution_count": 54,
   "metadata": {},
   "outputs": [
    {
     "ename": "RuntimeError",
     "evalue": "\n\n*** -------------------------------------------------------------------------\n*** DOLFIN encountered an error. If you are not able to resolve this issue\n*** using the information listed below, you can ask for help at\n***\n***     fenics-support@googlegroups.com\n***\n*** Remember to include the error message listed below and, if possible,\n*** include a *minimal* running example to reproduce the error.\n***\n*** -------------------------------------------------------------------------\n*** Error:   Unable to read time series from file.\n*** Reason:  Sample points for vector data are not strictly monotone in series \"navier_stokes_cylinder/velocity_series\".\n*** Where:   This error was encountered inside TimeSeries.cpp.\n*** Process: 0\n*** \n*** DOLFIN version: 2019.2.0.dev0\n*** Git changeset:  unknown\n*** -------------------------------------------------------------------------\n",
     "output_type": "error",
     "traceback": [
      "\u001b[0;31m---------------------------------------------------------------------------\u001b[0m",
      "\u001b[0;31mRuntimeError\u001b[0m                              Traceback (most recent call last)",
      "Cell \u001b[0;32mIn [54], line 7\u001b[0m\n\u001b[1;32m      5\u001b[0m xdmffile_p \u001b[39m=\u001b[39m XDMFFile(\u001b[39m'\u001b[39m\u001b[39mnavier_stokes_cylinder/pressure.xdmf\u001b[39m\u001b[39m'\u001b[39m)\n\u001b[1;32m      6\u001b[0m \u001b[39m# Create time series (for use in reaction_system.py)\u001b[39;00m\n\u001b[0;32m----> 7\u001b[0m timeseries_u \u001b[39m=\u001b[39m TimeSeries(\u001b[39m'\u001b[39;49m\u001b[39mnavier_stokes_cylinder/velocity_series\u001b[39;49m\u001b[39m'\u001b[39;49m)\n\u001b[1;32m      8\u001b[0m timeseries_p \u001b[39m=\u001b[39m TimeSeries(\u001b[39m'\u001b[39m\u001b[39mnavier_stokes_cylinder/pressure_series\u001b[39m\u001b[39m'\u001b[39m)\n\u001b[1;32m      9\u001b[0m \u001b[39m# Save mesh to file (for use in reaction_system.py)\u001b[39;00m\n",
      "\u001b[0;31mRuntimeError\u001b[0m: \n\n*** -------------------------------------------------------------------------\n*** DOLFIN encountered an error. If you are not able to resolve this issue\n*** using the information listed below, you can ask for help at\n***\n***     fenics-support@googlegroups.com\n***\n*** Remember to include the error message listed below and, if possible,\n*** include a *minimal* running example to reproduce the error.\n***\n*** -------------------------------------------------------------------------\n*** Error:   Unable to read time series from file.\n*** Reason:  Sample points for vector data are not strictly monotone in series \"navier_stokes_cylinder/velocity_series\".\n*** Where:   This error was encountered inside TimeSeries.cpp.\n*** Process: 0\n*** \n*** DOLFIN version: 2019.2.0.dev0\n*** Git changeset:  unknown\n*** -------------------------------------------------------------------------\n"
     ]
    }
   ],
   "source": [
    "# Exportamos las soluciones:\n",
    "\n",
    "# Create XDMF files for visualization output\n",
    "xdmffile_u = XDMFFile('navier_stokes_cylinder/velocity.xdmf')\n",
    "xdmffile_p = XDMFFile('navier_stokes_cylinder/pressure.xdmf')\n",
    "# Create time series (for use in reaction_system.py)\n",
    "timeseries_u = TimeSeries('navier_stokes_cylinder/velocity_series')\n",
    "timeseries_p = TimeSeries('navier_stokes_cylinder/pressure_series')\n",
    "# Save mesh to file (for use in reaction_system.py)\n",
    "File('navier_stokes_cylinder/cylinder.xml.gz') << mesh"
   ]
  },
  {
   "cell_type": "code",
   "execution_count": 57,
   "metadata": {},
   "outputs": [
    {
     "ename": "RuntimeError",
     "evalue": "\n\n*** -------------------------------------------------------------------------\n*** DOLFIN encountered an error. If you are not able to resolve this issue\n*** using the information listed below, you can ask for help at\n***\n***     fenics-support@googlegroups.com\n***\n*** Remember to include the error message listed below and, if possible,\n*** include a *minimal* running example to reproduce the error.\n***\n*** -------------------------------------------------------------------------\n*** Error:   Unable to solve linear system using PETSc Krylov solver.\n*** Reason:  Solution failed to converge in 0 iterations (PETSc reason DIVERGED_NANORINF, residual norm ||r|| = 0.000000e+00).\n*** Where:   This error was encountered inside PETScKrylovSolver.cpp.\n*** Process: 0\n*** \n*** DOLFIN version: 2019.2.0.dev0\n*** Git changeset:  unknown\n*** -------------------------------------------------------------------------\n",
     "output_type": "error",
     "traceback": [
      "\u001b[0;31m---------------------------------------------------------------------------\u001b[0m",
      "\u001b[0;31mRuntimeError\u001b[0m                              Traceback (most recent call last)",
      "Cell \u001b[0;32mIn [57], line 10\u001b[0m\n\u001b[1;32m      8\u001b[0m b1 \u001b[39m=\u001b[39m assemble(L1)\n\u001b[1;32m      9\u001b[0m [bc\u001b[39m.\u001b[39mapply(b1) \u001b[39mfor\u001b[39;00m bc \u001b[39min\u001b[39;00m bcu]\n\u001b[0;32m---> 10\u001b[0m solve(A1, u_\u001b[39m.\u001b[39;49mvector(), b1, \u001b[39m'\u001b[39;49m\u001b[39mbicgstab\u001b[39;49m\u001b[39m'\u001b[39;49m, \u001b[39m'\u001b[39;49m\u001b[39mhypre_amg\u001b[39;49m\u001b[39m'\u001b[39;49m)\n\u001b[1;32m     11\u001b[0m \u001b[39m# Step 2: Pressure correction step\u001b[39;00m\n\u001b[1;32m     12\u001b[0m b2 \u001b[39m=\u001b[39m assemble(L2)\n",
      "File \u001b[0;32m/usr/lib/petsc/lib/python3/dist-packages/dolfin/fem/solving.py:240\u001b[0m, in \u001b[0;36msolve\u001b[0;34m(*args, **kwargs)\u001b[0m\n\u001b[1;32m    237\u001b[0m \u001b[39mif\u001b[39;00m kwargs:\n\u001b[1;32m    238\u001b[0m     \u001b[39mraise\u001b[39;00m \u001b[39mRuntimeError\u001b[39;00m(\u001b[39m\"\u001b[39m\u001b[39mNot expecting keyword arguments when solving linear algebra problem.\u001b[39m\u001b[39m\"\u001b[39m)\n\u001b[0;32m--> 240\u001b[0m \u001b[39mreturn\u001b[39;00m dolfin\u001b[39m.\u001b[39;49mla\u001b[39m.\u001b[39;49msolver\u001b[39m.\u001b[39;49msolve(\u001b[39m*\u001b[39;49margs)\n",
      "File \u001b[0;32m/usr/lib/petsc/lib/python3/dist-packages/dolfin/la/solver.py:72\u001b[0m, in \u001b[0;36msolve\u001b[0;34m(A, x, b, method, preconditioner)\u001b[0m\n\u001b[1;32m     27\u001b[0m \u001b[39mdef\u001b[39;00m \u001b[39msolve\u001b[39m(A, x, b, method\u001b[39m=\u001b[39m\u001b[39m\"\u001b[39m\u001b[39mdefault\u001b[39m\u001b[39m\"\u001b[39m, preconditioner\u001b[39m=\u001b[39m\u001b[39m\"\u001b[39m\u001b[39mdefault\u001b[39m\u001b[39m\"\u001b[39m):\n\u001b[1;32m     28\u001b[0m     \u001b[39m\"\"\"Solve linear system Ax = b.\u001b[39;00m\n\u001b[1;32m     29\u001b[0m \n\u001b[1;32m     30\u001b[0m \u001b[39m    A linear system Ax = b may be solved by calling solve(A, x, b),\u001b[39;00m\n\u001b[0;32m   (...)\u001b[0m\n\u001b[1;32m     69\u001b[0m \n\u001b[1;32m     70\u001b[0m \u001b[39m    \"\"\"\u001b[39;00m\n\u001b[0;32m---> 72\u001b[0m     \u001b[39mreturn\u001b[39;00m cpp\u001b[39m.\u001b[39;49mla\u001b[39m.\u001b[39;49msolve(A, x, b, method, preconditioner)\n",
      "\u001b[0;31mRuntimeError\u001b[0m: \n\n*** -------------------------------------------------------------------------\n*** DOLFIN encountered an error. If you are not able to resolve this issue\n*** using the information listed below, you can ask for help at\n***\n***     fenics-support@googlegroups.com\n***\n*** Remember to include the error message listed below and, if possible,\n*** include a *minimal* running example to reproduce the error.\n***\n*** -------------------------------------------------------------------------\n*** Error:   Unable to solve linear system using PETSc Krylov solver.\n*** Reason:  Solution failed to converge in 0 iterations (PETSc reason DIVERGED_NANORINF, residual norm ||r|| = 0.000000e+00).\n*** Where:   This error was encountered inside PETScKrylovSolver.cpp.\n*** Process: 0\n*** \n*** DOLFIN version: 2019.2.0.dev0\n*** Git changeset:  unknown\n*** -------------------------------------------------------------------------\n"
     ]
    }
   ],
   "source": [
    "# Guardar en forma de video:\n",
    "# Time-stepping\n",
    "t = 0\n",
    "for n in range(num_steps):\n",
    "    # Update current time\n",
    "    t += dt\n",
    "    # Step 1: Tentative velocity step\n",
    "    b1 = assemble(L1)\n",
    "    [bc.apply(b1) for bc in bcu]\n",
    "    solve(A1, u_.vector(), b1, 'bicgstab', 'hypre_amg')\n",
    "    # Step 2: Pressure correction step\n",
    "    b2 = assemble(L2)\n",
    "    [bc.apply(b2) for bc in bcp]\n",
    "    solve(A2, p_.vector(), b2, 'bicgstab', 'hypre_amg')\n",
    "    # Step 3: Velocity correction step\n",
    "    b3 = assemble(L3)\n",
    "    solve(A3, u_.vector(), b3, 'cg', 'sor')\n",
    "    # Plot solution\n",
    "    plot(u_, title='Velocity')\n",
    "    plot(p_, title='Pressure')\n",
    "    # Save solution to file (XDMF/HDF5)\n",
    "    xdmffile_u.write(u_, t)\n",
    "    xdmffile_p.write(p_, t)\n",
    "    # Save nodal values to file\n",
    "    timeseries_u.store(u_.vector(), t)\n",
    "    timeseries_p.store(p_.vector(), t)\n",
    "    # Update previous solution\n",
    "    u_n.assign(u_)\n",
    "    p_n.assign(p_)\n",
    "\n",
    "    # Update progress bar\n",
    "    # progress.update(t / T)\n",
    "    # print('u max:', u_.vector().array().max())    \n",
    "    print('u max:', u_.vector().max())    "
   ]
  },
  {
   "cell_type": "code",
   "execution_count": 28,
   "metadata": {},
   "outputs": [
    {
     "ename": "NameError",
     "evalue": "name 'interactive' is not defined",
     "output_type": "error",
     "traceback": [
      "\u001b[0;31m---------------------------------------------------------------------------\u001b[0m",
      "\u001b[0;31mNameError\u001b[0m                                 Traceback (most recent call last)",
      "Cell \u001b[0;32mIn [28], line 2\u001b[0m\n\u001b[1;32m      1\u001b[0m \u001b[39m# Hold plot\u001b[39;00m\n\u001b[0;32m----> 2\u001b[0m interactive()\n",
      "\u001b[0;31mNameError\u001b[0m: name 'interactive' is not defined"
     ]
    }
   ],
   "source": [
    "# Hold plot\n",
    "# interactive()"
   ]
  }
 ],
 "metadata": {
  "kernelspec": {
   "display_name": "Python 3.10.6 64-bit",
   "language": "python",
   "name": "python3"
  },
  "language_info": {
   "codemirror_mode": {
    "name": "ipython",
    "version": 3
   },
   "file_extension": ".py",
   "mimetype": "text/x-python",
   "name": "python",
   "nbconvert_exporter": "python",
   "pygments_lexer": "ipython3",
   "version": "3.10.6"
  },
  "orig_nbformat": 4,
  "vscode": {
   "interpreter": {
    "hash": "916dbcbb3f70747c44a77c7bcd40155683ae19c65e1c03b4aa3499c5328201f1"
   }
  }
 },
 "nbformat": 4,
 "nbformat_minor": 2
}
